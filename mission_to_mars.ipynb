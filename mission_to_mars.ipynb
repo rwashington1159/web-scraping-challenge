{
 "cells": [
  {
   "cell_type": "markdown",
   "id": "authentic-shore",
   "metadata": {},
   "source": [
    "### Scraping NASA Mars News"
   ]
  },
  {
   "cell_type": "code",
   "execution_count": 9,
   "id": "czech-playlist",
   "metadata": {},
   "outputs": [],
   "source": [
    "import requests\n",
    "from bs4 import BeautifulSoup\n",
    "from bs4 import BeautifulSoup as bs\n",
    "from splinter import Browser\n",
    "from webdriver_manager.chrome import ChromeDriverManager"
   ]
  },
  {
   "cell_type": "code",
   "execution_count": 10,
   "id": "northern-manor",
   "metadata": {},
   "outputs": [],
   "source": [
    "url = \"https://mars.nasa.gov/news/\"\n",
    "response = requests.get(url)"
   ]
  },
  {
   "cell_type": "code",
   "execution_count": 11,
   "id": "renewable-weapon",
   "metadata": {},
   "outputs": [],
   "source": [
    "soup = BeautifulSoup(response.text, \"lxml\")"
   ]
  },
  {
   "cell_type": "code",
   "execution_count": 12,
   "id": "indie-mouse",
   "metadata": {},
   "outputs": [
    {
     "data": {
      "text/plain": [
       "'<!DOCTYPE html>\\n<html lang=\\'en\\' xml:lang=\\'en\\' xmlns=\\'http://www.w3.org/1999/xhtml\\'>\\n<head>\\n<meta content=\\'text/html; charset=utf-8\\' http-equiv=\\'Content-Type\\'>\\n<!-- Always force latest IE rendering engine or request Chrome Frame -->\\n<meta content=\\'IE=edge,chrome=1\\' http-equiv=\\'X-UA-Compatible\\'>\\n<!-- Responsiveness -->\\n<meta content=\\'width=device-width, initial-scale=1.0\\' name=\\'viewport\\'>\\n<!-- Favicon -->\\n<link href=\\'/apple-touch-icon.png\\' rel=\\'apple-touch-icon\\' sizes=\\'180x180\\'>\\n<link href=\\'/favicon-32x32.png\\' rel=\\'icon\\' sizes=\\'32x32\\' type=\\'image/png\\'>\\n<link href=\\'/favicon-16x16.png\\' rel=\\'icon\\' sizes=\\'16x16\\' type=\\'image/png\\'>\\n<link href=\\'/manifest.json\\' rel=\\'manifest\\'>\\n<link color=\\'#e48b55\\' href=\\'/safari-pinned-tab.svg\\' rel=\\'mask-icon\\'>\\n<meta content=\\'#000000\\' name=\\'theme-color\\'>\\n\\n<meta name=\"csrf-param\" content=\"authenticity_token\" />\\n<meta name=\"csrf-token\" content=\"qgA+6Vmgd1E69kQwNsS8YkiLML1mFljtm0nhjtbGrHs7sP8Vvu+Bsh2Hb/g/VGxn+wdlZlmpeQLVG+pyiatCXg==\" />\\n<title>News  – NASA’s Mars Exploration Program </title>\\n<meta content=\\'NASA’s Mars Exploration Program \\' property=\\'og:site_name\\'>\\n<meta content=\\'mars.nasa.gov\\' name=\\'author\\'>\\n<meta content=\\'Mars, missions, NASA, rover, Curiosity, Opportunity, InSight, Mars Reconnaissance Orbiter, facts\\' name=\\'keywords\\'>\\n<meta content=\\'NASA’s real-time portal for Mars exploration, featuring the latest news, images, and discoveries from the Red Planet.\\' name=\\'description\\'>\\n<meta content=\\'NASA’s real-time portal for Mars exploration, featuring the latest news, images, and discoveries from the Red Planet.\\' property=\\'og:description\\'>\\n<meta content=\\'News  – NASA’s Mars Exploration Program \\' property=\\'og:title\\'>\\n<meta content=\\'https://mars.nasa.gov/news\\' property=\\'og:url\\'>\\n<meta content=\\'article\\' property=\\'og:type\\'>\\n<meta content=\\'2017-09-22 19:53:22 UTC\\' property=\\'og:updated_time\\'>\\n<meta content=\\'https://mars.nasa.gov/system/site_config_values/meta_share_images/1_mars-nasa-gov.jpg\\' property=\\'og:image\\'>\\n<meta content=\\'https://mars.nasa.gov/system/site_config_values/meta_share_images/1_mars-nasa-gov.jpg\\' name=\\'twitter:image\\'>\\n<link href=\\'https://mars.nasa.gov/system/site_config_values/meta_share_images/1_mars-nasa-gov.jpg\\' rel=\\'image_src\\'>\\n\\n<meta content=\\'195570401081308\\' property=\\'fb:app_id\\'>\\n<link href=\\'https://fonts.googleapis.com/css?family=Montserrat:200,300,400,500,600,700|Raleway:300,400\\' rel=\\'stylesheet\\'>\\n\\n<link rel=\"stylesheet\" media=\"all\" href=\"/assets/public_manifest-552f2e86bf99497d3f90f135feca40db5511b30599898647e0506f50582dc94c.css\" />\\n<link rel=\"stylesheet\" media=\"screen\" href=\"/assets/mbcms/vendor/jquery.fancybox3-d5d81bdfc05a59e4ea72bca1d8b7fcc399bd3b61f7c06af95a8a48795df69d7a.css\" />\\n<link rel=\"stylesheet\" media=\"print\" href=\"/assets/gulp/print-240f8bfaa7f6402dfd6c49ee3c1ffea57a89ddd4c8c90e2f2a5c7d63c5753e32.css\" />\\n<script src=\"/assets/public_manifest-63a5b4071bf0b92dd1f67e47c49ab61a6fc0053457345d4c132ae36b10bde324.js\"></script>\\n<script src=\"/assets/mbcms/vendor/jquery.fancybox3-bd48876205805faa43a79e74b656191a4ad37809923b4f3247b571ba82d4458c.js\"></script>\\n<script src=\"/assets/mb_manifest-a0ae601bc18c852649e350709ab440161da58529f782ae84172c21f8ea27b714.js\"></script>\\n\\n<!--[if gt IE 8]><!-->\\n<script src=\"/assets/not_ie8_manifest.js\"></script>\\n<!--[if !IE]>-->\\n<script src=\"/assets/not_ie8_manifest.js\"></script>\\n<!--<![endif]-->\\n<!-- /twitter cards -->\\n<meta content=\\'summary_large_image\\' name=\\'twitter:card\\'>\\n<meta content=\\'News \\' name=\\'twitter:title\\'>\\n<meta content=\\'NASA’s real-time portal for Mars exploration, featuring the latest news, images, and discoveries from the Red Planet.\\' name=\\'twitter:description\\'>\\n<meta content=\\'https://mars.nasa.gov/system/site_config_values/meta_share_images/1_mars-nasa-gov.jpg\\' name=\\'twitter:image\\'>\\n</head>\\n<body id=\\'news\\'>\\n<svg display=\"none\" width=\"0\" height=\"0\">  \\n  \\n  <symbol id=\"circle_plus\" height=\"30\" viewBox=\"0 0 30 30\" width=\"30\">\\n    <g fill-rule=\"evenodd\" transform=\"translate(1 1)\">\\n      <circle cx=\"14\" cy=\"14\" fill=\"#fff\" fill-opacity=\".1\" fill-rule=\"nonzero\" r=\"14\" stroke=\"inherit\" stroke-width=\"1\"/>\\n      <path class=\"the_plus\" d=\"m18.856 12.96v1.738h-4.004v3.938h-1.848v-3.938h-4.004v-1.738h4.004v-3.96h1.848v3.96z\" fill=\"inherit\"  stroke-width=\"0\"/>\\n    </g>\\n  </symbol>\\n  \\n  <symbol id=\"circle_arrow\" height=\"30\" viewBox=\"0 0 30 30\" width=\"30\" xmlns=\"http://www.w3.org/2000/svg\">\\n    <g transform=\"translate(1 1)\"><circle cx=\"14\" cy=\"14\" fill=\"#fff\" fill-opacity=\".1\" r=\"14\" stroke=\"inherit\" stroke-width=\"1\"/>\\n    <path class=\"the_arrow\" d=\"m8.5 15.00025h7.984l-2.342 2.42c-.189.197-.189.518 0 .715l.684.717c.188.197.494.197.684 0l4.35-4.506c.188-.199.188-.52 0-.717l-4.322-4.48c-.189-.199-.496-.199-.684 0l-.684.716c-.189.197-.189.519 0 .716l2.341 2.419h-8.011c-.276 0-.5.223-.5.5v1c0 .275.224.5.5.5z\" stroke-width=\"0\" fill=\"inherit\"/>\\n    </g>\\n  </symbol>\\n  \\n  <symbol id=\"circle_close\" height=\"30\" viewBox=\"0 0 30 30\" width=\"30\">\\n    <g fill-rule=\"evenodd\" transform=\"translate(1 1)\">\\n      <circle cx=\"14\" cy=\"14\" fill=\"blue\" fill-opacity=\"1\" fill-rule=\"nonzero\" r=\"14\" stroke=\"inherit\" stroke-width=\"1\"/>\\n      <path class=\"the_plus\" d=\"m18.856 12.96v1.738h-4.004v3.938h-1.848v-3.938h-4.004v-1.738h4.004v-3.96h1.848v3.96z\" fill=\"inherit\"  stroke-width=\"0\"/>\\n    </g>\\n  </symbol>\\n  \\n  <symbol id=\"circle_close_hover\" height=\"30\" viewBox=\"0 0 30 30\" width=\"30\">\\n    <g fill-rule=\"evenodd\" transform=\"translate(1 1)\">\\n      <circle cx=\"14\" cy=\"14\" fill=\"white\" fill-opacity=\"1\" fill-rule=\"nonzero\" r=\"14\" stroke=\"inherit\" stroke-width=\"1\"/>\\n      <path class=\"the_plus\" d=\"m18.856 12.96v1.738h-4.004v3.938h-1.848v-3.938h-4.004v-1.738h4.004v-3.96h1.848v3.96z\" fill=\"inherit\"  stroke-width=\"0\"/>\\n    </g>\\n  </symbol>\\n\\n  <symbol id=\"chevron_down\" height=\"6\" viewBox=\"0 0 10 6\" width=\"10\" xmlns=\"http://www.w3.org/2000/svg\">\\n    <path d=\"m59 7v2.72727273l5 3.27272727 5-3.27272727v-2.72727273l-5 3.2727273z\" transform=\"translate(-59 -7)\"/>\\n  </symbol>\\n\\n  <symbol id=\"gear\" height=\"16\" viewBox=\"0 0 16 16\" width=\"16\" xmlns=\"http://www.w3.org/2000/svg\">\\n    <path d=\"m68 9h-1.09c-.15-.91-.5-1.75-1.021-2.471l.761-.77c.39-.39.39-1.029 0-1.42-.391-.39-1.021-.39-1.41 0l-.771.77c-.719-.519-1.469-.869-2.469-1.019v-1.09c0-.55-.45-1-1-1s-1 .45-1 1v1.09c-1 .15-1.75.5-2.47 1.02l-.77-.77c-.389-.39-1.029-.39-1.42 0-.39.391-.39 1.03 0 1.42l.771.77c-.521.72-.871 1.56-1.021 2.47h-1.09c-.55 0-1 .48-1 1.029 0 .551.45.971 1.12.971h.97c.15.91.5 1.75 1.021 2.471l-.771.769c-.39.39-.39 1.029 0 1.42.391.39 1.021.39 1.41 0l.78-.77c.72.52 1.47.87 2.47 1.02v1.09c0 .55.45 1 1 1s1-.45 1-1v-1.09c1-.15 1.75-.5 2.47-1.02l.771.77c.391.39 1.02.39 1.41 0 .39-.391.39-1.03 0-1.42l-.761-.76c.51-.72.87-1.56 1.02-2.48h1.09c.55 0 1-.45 1-1s-.45-1-1-1zm-7 4c-1.66 0-3-1.35-3-3s1.34-3 3-3c1.65 0 3 1.35 3 3s-1.35 3-3 3z\" fill=\"#a79693\" transform=\"translate(-53 -2)\"/>\\n  </symbol>\\n\\n</svg>\\n\\n\\n\\n<div data-react-class=\"BrowseHappier\" data-react-props=\"{&quot;gt&quot;:1,&quot;lt&quot;:11}\" data-react-cache-id=\"BrowseHappier-0\"></div>\\n<div data-react-class=\"HiPO\" data-react-props=\"{}\" data-react-cache-id=\"HiPO-0\"></div>\\n<div id=\\'main_container\\'>\\n<div id=\\'site_body\\'>\\n<div class=\\'site_header_area\\'>\\n<header class=\\'site_header\\'>\\n<div class=\\'brand_area\\'>\\n<div class=\\'brand1\\'>\\n<a class=\\'nasa_logo\\' href=\\'http://www.nasa.gov\\' target=\\'_blank\\' title=\\'visit nasa.gov\\'>NASA</a>\\n</div>\\n<div class=\\'brand2\\'>\\n<a class=\\'top_logo\\' href=\\'https://science.nasa.gov/\\' target=\\'_blank\\' title=\\'Explore NASA Science\\'>NASA Science</a>\\n<a class=\\'sub_logo\\' href=\\'/mars-exploration/#\\' title=\\'Mars\\'>Mars Exploration Program</a>\\n</div>\\n<img alt=\\'\\' class=\\'print_only print_logo\\' src=\\'/assets/logo_mars_trio_black@2x.png\\'>\\n</div>\\n\\n<a class=\\'visuallyhidden focusable\\' href=\\'#page\\'>Skip Navigation</a>\\n<div class=\\'right_header_container\\'>\\n<a class=\\'menu_button\\' href=\\'javascript:void(0);\\' id=\\'menu_button\\'>\\n<span class=\\'menu_icon\\'>\\nmenu\\n</span>\\n</a>\\n<a class=\\'modal_close\\' id=\\'modal_close\\'>\\n<span class=\\'modal_close_icon\\'></span>\\n</a>\\n<div class=\\'nav_area\\'>\\n<div id=\\'site_nav_container\\'>\\n<nav data-react-class=\"Meganav\" data-react-props=\"{&quot;nav_items&quot;:[{&quot;name&quot;:&quot;Mars Now&quot;,&quot;style&quot;:&quot;icon&quot;,&quot;li_class&quot;:&quot;nav_icon mars_now&quot;,&quot;target&quot;:&quot;_self&quot;,&quot;link&quot;:&quot;/explore/mars-now&quot;,&quot;svg_icon_id&quot;:&quot;nav_icon&quot;,&quot;id&quot;:261,&quot;features&quot;:[{&quot;title&quot;:&quot;Mars Now&quot;,&quot;body&quot;:&quot;View a 3D visualization of all the missions exploring the Red Planet&quot;,&quot;image_src&quot;:&quot;/system/basic_html_elements/225_mars_now_nav.jpg&quot;,&quot;link&quot;:&quot;/explore/mars-now/&quot;,&quot;target&quot;:&quot;_self&quot;,&quot;categories&quot;:[]}],&quot;title&quot;:&quot;&quot;,&quot;short_description&quot;:&quot;View the current location and spacecraft communications activity of operating landers, rovers and orbiters using the NASA’s Mars Relay Network.&quot;},{&quot;name&quot;:&quot;The Red Planet&quot;,&quot;link&quot;:&quot;/#red_planet&quot;,&quot;target&quot;:&quot;_self&quot;,&quot;sections&quot;:[{&quot;items&quot;:[{&quot;name&quot;:&quot;Dashboard&quot;,&quot;link&quot;:&quot;/#red_planet/0&quot;,&quot;target&quot;:&quot;_self&quot;,&quot;id&quot;:9},{&quot;name&quot;:&quot;Science Goals&quot;,&quot;link&quot;:&quot;/#red_planet/1&quot;,&quot;target&quot;:&quot;_self&quot;,&quot;id&quot;:13},{&quot;name&quot;:&quot;The Planet&quot;,&quot;link&quot;:&quot;/#red_planet/2&quot;,&quot;target&quot;:&quot;_self&quot;,&quot;id&quot;:14},{&quot;name&quot;:&quot;Atmosphere&quot;,&quot;link&quot;:&quot;/#red_planet/3&quot;,&quot;target&quot;:&quot;_self&quot;,&quot;id&quot;:16},{&quot;name&quot;:&quot;Astrobiology&quot;,&quot;link&quot;:&quot;/#red_planet/4&quot;,&quot;target&quot;:&quot;_self&quot;,&quot;id&quot;:17},{&quot;name&quot;:&quot;Past, Present, Future, Timeline&quot;,&quot;link&quot;:&quot;/#red_planet/5&quot;,&quot;target&quot;:&quot;_self&quot;,&quot;id&quot;:18}]}],&quot;id&quot;:3,&quot;meganav_style&quot;:&quot;&quot;,&quot;features&quot;:[],&quot;short_description&quot;:null},{&quot;name&quot;:&quot;The Program&quot;,&quot;link&quot;:&quot;/#mars_exploration_program&quot;,&quot;target&quot;:&quot;_self&quot;,&quot;sections&quot;:[{&quot;items&quot;:[{&quot;name&quot;:&quot;Mission Statement&quot;,&quot;link&quot;:&quot;/#mars_exploration_program/0&quot;,&quot;target&quot;:&quot;_self&quot;,&quot;id&quot;:8},{&quot;name&quot;:&quot;About the Program&quot;,&quot;link&quot;:&quot;/#mars_exploration_program/1&quot;,&quot;target&quot;:&quot;_self&quot;,&quot;id&quot;:42},{&quot;name&quot;:&quot;Organization&quot;,&quot;link&quot;:&quot;/#mars_exploration_program/2&quot;,&quot;target&quot;:&quot;_self&quot;,&quot;id&quot;:43},{&quot;name&quot;:&quot;Why Mars?&quot;,&quot;link&quot;:&quot;/#mars_exploration_program/3&quot;,&quot;target&quot;:&quot;_self&quot;,&quot;id&quot;:51},{&quot;name&quot;:&quot;Research Programs&quot;,&quot;link&quot;:&quot;/#mars_exploration_program/4&quot;,&quot;target&quot;:&quot;_self&quot;,&quot;id&quot;:44},{&quot;name&quot;:&quot;Planetary Resources&quot;,&quot;link&quot;:&quot;/#mars_exploration_program/5&quot;,&quot;target&quot;:&quot;_self&quot;,&quot;id&quot;:52},{&quot;name&quot;:&quot;Technologies&quot;,&quot;link&quot;:&quot;/#mars_exploration_program/6&quot;,&quot;target&quot;:&quot;_self&quot;,&quot;id&quot;:56}]}],&quot;id&quot;:2,&quot;meganav_style&quot;:&quot;&quot;,&quot;features&quot;:[],&quot;short_description&quot;:null},{&quot;name&quot;:&quot;News \\\\u0026 Events&quot;,&quot;link&quot;:&quot;/#news_and_events&quot;,&quot;target&quot;:&quot;_self&quot;,&quot;sections&quot;:[{&quot;items&quot;:[{&quot;name&quot;:&quot;News&quot;,&quot;link&quot;:&quot;/news&quot;,&quot;target&quot;:&quot;_self&quot;,&quot;id&quot;:92},{&quot;name&quot;:&quot;Events&quot;,&quot;link&quot;:&quot;/events&quot;,&quot;target&quot;:&quot;_self&quot;,&quot;id&quot;:93}]}],&quot;id&quot;:4,&quot;meganav_style&quot;:&quot;&quot;,&quot;features&quot;:[],&quot;short_description&quot;:null},{&quot;name&quot;:&quot;Multimedia&quot;,&quot;link&quot;:&quot;/#multimedia&quot;,&quot;target&quot;:&quot;_self&quot;,&quot;sections&quot;:[{&quot;items&quot;:[{&quot;name&quot;:&quot;Images&quot;,&quot;link&quot;:&quot;/multimedia/images/&quot;,&quot;target&quot;:&quot;_self&quot;,&quot;id&quot;:90},{&quot;name&quot;:&quot;Videos&quot;,&quot;link&quot;:&quot;/multimedia/videos/&quot;,&quot;target&quot;:&quot;_self&quot;,&quot;id&quot;:91},{&quot;name&quot;:&quot;Audio&quot;,&quot;link&quot;:&quot;/mars2020/multimedia/audio/&quot;,&quot;target&quot;:&quot;_self&quot;,&quot;id&quot;:427},{&quot;name&quot;:&quot;More Resources&quot;,&quot;link&quot;:&quot;/multimedia/more-resources/&quot;,&quot;target&quot;:&quot;_self&quot;,&quot;id&quot;:413}]}],&quot;id&quot;:5,&quot;meganav_style&quot;:&quot;&quot;,&quot;features&quot;:[],&quot;short_description&quot;:null},{&quot;name&quot;:&quot;Missions&quot;,&quot;link&quot;:&quot;/#missions_gallery_subnav&quot;,&quot;target&quot;:&quot;_self&quot;,&quot;sections&quot;:[{&quot;items&quot;:[{&quot;name&quot;:&quot;Past&quot;,&quot;link&quot;:&quot;/mars-exploration/missions/?category=167&quot;,&quot;target&quot;:&quot;_self&quot;,&quot;id&quot;:38},{&quot;name&quot;:&quot;Present&quot;,&quot;link&quot;:&quot;/mars-exploration/missions/?category=170&quot;,&quot;target&quot;:&quot;_self&quot;,&quot;id&quot;:59},{&quot;name&quot;:&quot;Future&quot;,&quot;link&quot;:&quot;/mars-exploration/missions/?category=171&quot;,&quot;target&quot;:&quot;_self&quot;,&quot;id&quot;:60},{&quot;name&quot;:&quot;International Partners&quot;,&quot;link&quot;:&quot;/mars-exploration/partners&quot;,&quot;target&quot;:&quot;_self&quot;,&quot;id&quot;:40}]}],&quot;id&quot;:6,&quot;meganav_style&quot;:&quot;&quot;,&quot;features&quot;:[],&quot;short_description&quot;:null},{&quot;name&quot;:&quot;More&quot;,&quot;link&quot;:&quot;/#more&quot;,&quot;target&quot;:&quot;_self&quot;,&quot;sections&quot;:[],&quot;id&quot;:7,&quot;meganav_style&quot;:&quot;&quot;,&quot;features&quot;:[],&quot;short_description&quot;:null}],&quot;gallery_subnav_items&quot;:[{&quot;thumb&quot;:&quot;/system/missions/list_view_images/23_PIA23764-RoverNamePlateonMars-320x240.jpg&quot;,&quot;id&quot;:23,&quot;title&quot;:&quot;Mars 2020 Perseverance Rover&quot;,&quot;description&quot;:&quot;A mission to investigate key questions about potential life on Mars. &quot;,&quot;date&quot;:&quot;July 17, 2020&quot;,&quot;url&quot;:&quot;/mars-exploration/missions/mars2020/&quot;,&quot;link_text&quot;:&quot;&quot;,&quot;target&quot;:&quot;_blank&quot;,&quot;mi_traveled&quot;:null,&quot;gallery_subnav_link&quot;:&quot;https://mars.nasa.gov/mars2020/&quot;},{&quot;thumb&quot;:&quot;/system/missions/list_view_images/2_PIA14175-thmfeat.jpg&quot;,&quot;id&quot;:2,&quot;title&quot;:&quot;Curiosity Rover&quot;,&quot;description&quot;:&quot;The largest and most capable rover ever sent to Mars.&quot;,&quot;date&quot;:&quot;November 26, 2011&quot;,&quot;url&quot;:&quot;/mars-exploration/missions/mars-science-laboratory&quot;,&quot;link_text&quot;:&quot;&quot;,&quot;target&quot;:&quot;_blank&quot;,&quot;mi_traveled&quot;:15.16,&quot;gallery_subnav_link&quot;:&quot;https://mars.nasa.gov/msl/home/&quot;},{&quot;thumb&quot;:&quot;/system/missions/list_view_images/21_PIA22743-320x240.jpg&quot;,&quot;id&quot;:21,&quot;title&quot;:&quot;InSight Lander&quot;,&quot;description&quot;:&quot;A mission to study the deep interior of Mars. &quot;,&quot;date&quot;:&quot;November 26, 2018&quot;,&quot;url&quot;:&quot;/mars-exploration/missions/insight/&quot;,&quot;link_text&quot;:&quot;&quot;,&quot;target&quot;:&quot;_blank&quot;,&quot;mi_traveled&quot;:null,&quot;gallery_subnav_link&quot;:&quot;https://mars.nasa.gov/insight/&quot;},{&quot;thumb&quot;:&quot;/system/missions/list_view_images/6_maven_320x240.jpg&quot;,&quot;id&quot;:6,&quot;title&quot;:&quot;MAVEN&quot;,&quot;description&quot;:&quot;Measures Mars&#39; atmosphere to understand its climate change.&quot;,&quot;date&quot;:&quot;November 18, 2013&quot;,&quot;url&quot;:&quot;/mars-exploration/missions/maven&quot;,&quot;link_text&quot;:&quot;&quot;,&quot;target&quot;:&quot;_blank&quot;,&quot;mi_traveled&quot;:null,&quot;gallery_subnav_link&quot;:&quot;https://mars.nasa.gov/maven/&quot;},{&quot;thumb&quot;:&quot;/system/missions/list_view_images/8_MRO_320x240.jpg&quot;,&quot;id&quot;:8,&quot;title&quot;:&quot;Mars Reconnaissance Orbiter&quot;,&quot;description&quot;:&quot;Takes high-resolution imagery of Martian terrain with extraordinary clarity. &quot;,&quot;date&quot;:&quot;August 12, 2012&quot;,&quot;url&quot;:&quot;/mars-exploration/missions/mars-reconnaissance-orbiter&quot;,&quot;link_text&quot;:&quot;&quot;,&quot;target&quot;:&quot;_blank&quot;,&quot;mi_traveled&quot;:null,&quot;gallery_subnav_link&quot;:&quot;https://mars.nasa.gov/mro/&quot;},{&quot;thumb&quot;:&quot;/system/missions/list_view_images/5_mars_odyssey320x240.jpg&quot;,&quot;id&quot;:5,&quot;title&quot;:&quot;2001 Mars Odyssey&quot;,&quot;description&quot;:&quot;NASA&#39;s longest-lasting spacecraft at Mars. &quot;,&quot;date&quot;:&quot;April  7, 2001&quot;,&quot;url&quot;:&quot;/mars-exploration/missions/odyssey&quot;,&quot;link_text&quot;:&quot;&quot;,&quot;target&quot;:&quot;_blank&quot;,&quot;mi_traveled&quot;:null,&quot;gallery_subnav_link&quot;:&quot;https://mars.nasa.gov/odyssey/&quot;}],&quot;search&quot;:true,&quot;search_placeholder&quot;:{&quot;placeholder&quot;:&quot;&quot;},&quot;highlight_current&quot;:{&quot;highlight&quot;:true,&quot;current_id&quot;:83,&quot;parent_ids&quot;:[]},&quot;search_submit&quot;:&quot;/search/&quot;}\" data-react-cache-id=\"Meganav-0\" class=\"site_nav\"></nav>\\n</div>\\n</div>\\n</div>\\n</header>\\n</div>\\n<div id=\\'sticky_nav_spacer\\'></div>\\n\\n<div id=\\'page\\'>\\n<div class=\\'page_cover\\'></div>\\n<!-- title to go in the page_header -->\\n<div class=\\'header_mask\\'>\\n<section class=\\'content_page module\\'></section>\\n</div>\\n<div class=\\'grid_list_page module content_page\\'>\\n<div class=\\'grid_layout\\'>\\n<article>\\n<header id=\\'page_header\\'>\\n</header>\\n<div data-react-class=\"GridListPage\" data-react-props=\"{&quot;left_column&quot;:false,&quot;class_name&quot;:&quot;&quot;,&quot;default_view&quot;:&quot;list_view&quot;,&quot;model&quot;:&quot;news_items&quot;,&quot;view_toggle&quot;:false,&quot;search&quot;:&quot;true&quot;,&quot;list_item&quot;:&quot;News&quot;,&quot;title&quot;:&quot;News&quot;,&quot;categories&quot;:[&quot;19,165,184,204&quot;],&quot;order&quot;:&quot;publish_date desc,created_at desc&quot;,&quot;no_items_text&quot;:&quot;There are no items matching these criteria.&quot;,&quot;site_title&quot;:&quot;NASA’s Mars Exploration Program &quot;,&quot;short_title&quot;:&quot;Mars&quot;,&quot;site_share_image&quot;:&quot;/system/site_config_values/meta_share_images/1_mars-nasa-gov.jpg&quot;,&quot;per_page&quot;:null,&quot;filters&quot;:&quot;[ [ \\\\&quot;date\\\\&quot;, [ [ \\\\&quot;2021\\\\&quot;, \\\\&quot;2021\\\\&quot; ], [ \\\\&quot;2020\\\\&quot;, \\\\&quot;2020\\\\&quot; ], [ \\\\&quot;2019\\\\&quot;, \\\\&quot;2019\\\\&quot; ], [ \\\\&quot;2018\\\\&quot;, \\\\&quot;2018\\\\&quot; ], [ \\\\&quot;2017\\\\&quot;, \\\\&quot;2017\\\\&quot; ], [ \\\\&quot;2016\\\\&quot;, \\\\&quot;2016\\\\&quot; ], [ \\\\&quot;2015\\\\&quot;, \\\\&quot;2015\\\\&quot; ], [ \\\\&quot;2014\\\\&quot;, \\\\&quot;2014\\\\&quot; ], [ \\\\&quot;2013\\\\&quot;, \\\\&quot;2013\\\\&quot; ], [ \\\\&quot;2012\\\\&quot;, \\\\&quot;2012\\\\&quot; ], [ \\\\&quot;2011\\\\&quot;, \\\\&quot;2011\\\\&quot; ], [ \\\\&quot;2010\\\\&quot;, \\\\&quot;2010\\\\&quot; ], [ \\\\&quot;2009\\\\&quot;, \\\\&quot;2009\\\\&quot; ], [ \\\\&quot;2008\\\\&quot;, \\\\&quot;2008\\\\&quot; ], [ \\\\&quot;2007\\\\&quot;, \\\\&quot;2007\\\\&quot; ], [ \\\\&quot;2006\\\\&quot;, \\\\&quot;2006\\\\&quot; ], [ \\\\&quot;2005\\\\&quot;, \\\\&quot;2005\\\\&quot; ], [ \\\\&quot;2004\\\\&quot;, \\\\&quot;2004\\\\&quot; ], [ \\\\&quot;2003\\\\&quot;, \\\\&quot;2003\\\\&quot; ], [ \\\\&quot;2002\\\\&quot;, \\\\&quot;2002\\\\&quot; ], [ \\\\&quot;2001\\\\&quot;, \\\\&quot;2001\\\\&quot; ], [ \\\\&quot;2000\\\\&quot;, \\\\&quot;2000\\\\&quot; ] ], [ \\\\&quot;Latest\\\\&quot;, \\\\&quot;\\\\&quot; ], false, false ], [ \\\\&quot;categories\\\\&quot;, [ [ \\\\&quot;Feature Stories\\\\&quot;, 165 ], [ \\\\&quot;Press Releases\\\\&quot;, 19 ], [ \\\\&quot;Spotlights\\\\&quot;, 184 ], [ \\\\&quot;Status Reports\\\\&quot;, 204 ] ], [ \\\\&quot;All Categories\\\\&quot;, \\\\&quot;\\\\&quot; ], false, false ] ]&quot;,&quot;conditions&quot;:null,&quot;scope_in_title&quot;:true,&quot;options&quot;:{&quot;blank_scope&quot;:&quot;Latest&quot;},&quot;results_in_title&quot;:false}\" data-react-cache-id=\"GridListPage-0\" class=\"react_grid_list grid_list_container\"></div>\\r\\n\\n</article>\\n</div>\\n</div>\\n<section class=\\'module suggested_features\\'>\\n<div class=\\'grid_layout\\'>\\n<header>\\n<h2 class=\\'module_title\\'>You Might Also Like</h2>\\n</header>\\n<section>\\n<script>\\n  $(document).ready(function(){\\n    $(\".features\").slick({\\n      dots: false,\\n      infinite: true,\\n      speed: 300,\\n      slide: \\'.features .slide\\',\\n      slidesToShow: 3,\\n      slidesToScroll: 3,\\n      lazyLoad: \\'ondemand\\',\\n      centerMode: false,\\n      arrows: true,\\n      appendArrows: \\'.features .slick-nav\\',\\n      appendDots: \".features .slick-nav\",\\n      responsive: [{\"breakpoint\":953,\"settings\":{\"slidesToShow\":2,\"slidesToScroll\":2,\"centerMode\":false}},{\"breakpoint\":480,\"settings\":{\"slidesToShow\":1,\"slidesToScroll\":1,\"centerMode\":true,\"arrows\":false,\"centerPadding\":\"25px\"}}]\\n    });\\n  });\\n</script>\\n<div class=\\'features\\'>\\n<div class=\\'slide\\'>\\n<div class=\\'image_and_description_container\\'>\\n<a href=\\'/news/8860/nasas-next-mars-rover-is-ready-for-the-most-precise-landing-yet/\\'>\\n<div class=\\'rollover_description\\'>\\n<div class=\\'rollover_description_inner\\'>\\nWhat to expect when the Mars 2020 Perseverance rover arrives at the Red Planet on Feb. 18, 2021.\\n</div>\\n<div class=\\'overlay_arrow\\'>\\n<img alt=\\'More\\' src=\\'/assets/overlay-arrow.png\\'>\\n</div>\\n</div>\\n<img alt=\"NASA\\'s Next Mars Rover Is Ready for the Most Precise Landing Yet\" class=\\'img-lazy\\' data-lazy=\\'/system/news_items/list_view_images/8860_25446_05_GuidedEntry-320.jpg\\' src=\\'/assets/loading_320x240.png\\'>\\n</a>\\n</div>\\n<div class=\\'content_title\\'>\\n<a href=\\'/news/8860/nasas-next-mars-rover-is-ready-for-the-most-precise-landing-yet/\\'>\\nNASA\\'s Next Mars Rover Is Ready for the Most Precise Landing Yet\\n</a>\\n</div>\\n</div>\\n\\n<div class=\\'slide\\'>\\n<div class=\\'image_and_description_container\\'>\\n<a href=\\'/news/8837/nasa-to-host-virtual-briefing-on-february-perseverance-mars-rover-landing/\\'>\\n<div class=\\'rollover_description\\'>\\n<div class=\\'rollover_description_inner\\'>\\nNASA leadership and members of the mission will discuss the agency’s latest rover, which touches down on the Red Planet on Feb. 18.\\n</div>\\n<div class=\\'overlay_arrow\\'>\\n<img alt=\\'More\\' src=\\'/assets/overlay-arrow.png\\'>\\n</div>\\n</div>\\n<img alt=\\'NASA to Host Virtual Briefing on February Perseverance Mars Rover Landing\\' class=\\'img-lazy\\' data-lazy=\\'/system/news_items/list_view_images/8837_06_Parachute_320x240.jpg\\' src=\\'/assets/loading_320x240.png\\'>\\n</a>\\n</div>\\n<div class=\\'content_title\\'>\\n<a href=\\'/news/8837/nasa-to-host-virtual-briefing-on-february-perseverance-mars-rover-landing/\\'>\\nNASA to Host Virtual Briefing on February Perseverance Mars Rover Landing\\n</a>\\n</div>\\n</div>\\n\\n<div class=\\'slide\\'>\\n<div class=\\'image_and_description_container\\'>\\n<a href=\\'/news/8836/nasa-insights-mole-ends-its-journey-on-mars/\\'>\\n<div class=\\'rollover_description\\'>\\n<div class=\\'rollover_description_inner\\'>\\nThe heat probe hasn’t been able to gain the friction it needs to dig, but the mission has been granted an extension to carry on with its other science.\\n</div>\\n<div class=\\'overlay_arrow\\'>\\n<img alt=\\'More\\' src=\\'/assets/overlay-arrow.png\\'>\\n</div>\\n</div>\\n<img alt=\"NASA InSight\\'s ‘Mole\\' Ends Its Journey on Mars\" class=\\'img-lazy\\' data-lazy=\\'/system/news_items/list_view_images/8836_insight-illustration-320.jpg\\' src=\\'/assets/loading_320x240.png\\'>\\n</a>\\n</div>\\n<div class=\\'content_title\\'>\\n<a href=\\'/news/8836/nasa-insights-mole-ends-its-journey-on-mars/\\'>\\nNASA InSight\\'s ‘Mole\\' Ends Its Journey on Mars\\n</a>\\n</div>\\n</div>\\n\\n<div class=\\'slide\\'>\\n<div class=\\'image_and_description_container\\'>\\n<a href=\\'/news/8716/nasa-to-broadcast-mars-2020-perseverance-launch-prelaunch-activities/\\'>\\n<div class=\\'rollover_description\\'>\\n<div class=\\'rollover_description_inner\\'>\\nStarting July 27, news activities will cover everything from mission engineering and science to returning samples from Mars to, of course, the launch itself.\\n</div>\\n<div class=\\'overlay_arrow\\'>\\n<img alt=\\'More\\' src=\\'/assets/overlay-arrow.png\\'>\\n</div>\\n</div>\\n<img alt=\\'NASA to Broadcast Mars 2020 Perseverance Launch, Prelaunch Activities\\' class=\\'img-lazy\\' data-lazy=\\'/system/news_items/list_view_images/8716_PIA23499-320x240.jpg\\' src=\\'/assets/loading_320x240.png\\'>\\n</a>\\n</div>\\n<div class=\\'content_title\\'>\\n<a href=\\'/news/8716/nasa-to-broadcast-mars-2020-perseverance-launch-prelaunch-activities/\\'>\\nNASA to Broadcast Mars 2020 Perseverance Launch, Prelaunch Activities\\n</a>\\n</div>\\n</div>\\n\\n<div class=\\'slide\\'>\\n<div class=\\'image_and_description_container\\'>\\n<a href=\\'/news/8695/the-launch-is-approaching-for-nasas-next-mars-rover-perseverance/\\'>\\n<div class=\\'rollover_description\\'>\\n<div class=\\'rollover_description_inner\\'>\\nThe Red Planet\\'s surface has been visited by eight NASA spacecraft. The ninth will be the first that includes a roundtrip ticket in its flight plan. \\n</div>\\n<div class=\\'overlay_arrow\\'>\\n<img alt=\\'More\\' src=\\'/assets/overlay-arrow.png\\'>\\n</div>\\n</div>\\n<img alt=\"The Launch Is Approaching for NASA\\'s Next Mars Rover, Perseverance\" class=\\'img-lazy\\' data-lazy=\\'/system/news_items/list_view_images/8695_24732_PIA23499-226.jpg\\' src=\\'/assets/loading_320x240.png\\'>\\n</a>\\n</div>\\n<div class=\\'content_title\\'>\\n<a href=\\'/news/8695/the-launch-is-approaching-for-nasas-next-mars-rover-perseverance/\\'>\\nThe Launch Is Approaching for NASA\\'s Next Mars Rover, Perseverance\\n</a>\\n</div>\\n</div>\\n\\n<div class=\\'slide\\'>\\n<div class=\\'image_and_description_container\\'>\\n<a href=\\'/news/8692/nasa-to-hold-mars-2020-perseverance-rover-launch-briefing/\\'>\\n<div class=\\'rollover_description\\'>\\n<div class=\\'rollover_description_inner\\'>\\nLearn more about the agency\\'s next Red Planet mission during a live event on June 17.\\n</div>\\n<div class=\\'overlay_arrow\\'>\\n<img alt=\\'More\\' src=\\'/assets/overlay-arrow.png\\'>\\n</div>\\n</div>\\n<img alt=\\'NASA to Hold Mars 2020 Perseverance Rover Launch Briefing\\' class=\\'img-lazy\\' data-lazy=\\'/system/news_items/list_view_images/8692_PIA23920-320x240.jpg\\' src=\\'/assets/loading_320x240.png\\'>\\n</a>\\n</div>\\n<div class=\\'content_title\\'>\\n<a href=\\'/news/8692/nasa-to-hold-mars-2020-perseverance-rover-launch-briefing/\\'>\\nNASA to Hold Mars 2020 Perseverance Rover Launch Briefing\\n</a>\\n</div>\\n</div>\\n\\n<div class=\\'grid_layout\\'>\\n<div class=\\'slick-nav_container\\'>\\n<div class=\\'slick-nav\\'></div>\\n</div>\\n</div>\\n</div>\\n\\n</section>\\n</div>\\n</section>\\n\\n</div>\\n<footer id=\\'site_footer\\'>\\n<div class=\\'grid_layout\\'>\\n<section class=\\'upper_footer\\'>\\n<div class=\\'share_newsletter_container\\'>\\n<div class=\\'newsletter\\'>\\n<h2>Get the Mars Newsletter</h2>\\n<form action=\\'/newsletter-subscribe\\'>\\n<input type=\"email\" name=\"email\" id=\"email\" value=\"\" placeholder=\"enter email address\" />\\n<input type=\"submit\" name=\"commit\" value=\"\" data-disable-with=\"\" />\\n</form>\\n</div>\\n<div class=\\'share\\'>\\n<h2>Follow the Journey</h2>\\n<div class=\\'social_icons\\'>\\n<!-- AddThis Button BEGIN -->\\n<div class=\\'addthis_toolbox addthis_default_style addthis_32x32_style\\'><a addthis:userid=\\'MarsCuriosity\\' class=\\'addthis_button_twitter_follow icon\\'>\\n<img alt=\\'twitter\\' src=\\'/assets/twitter_icon@2x.png\\'>\\n</a><a addthis:userid=\\'MarsCuriosity\\' class=\\'addthis_button_facebook_follow icon\\'>\\n<img alt=\\'facebook\\' src=\\'/assets/facebook_icon@2x.png\\'>\\n</a><a addthis:userid=\\'nasa\\' class=\\'addthis_button_instagram_follow icon\\'>\\n<img alt=\\'instagram\\' src=\\'/assets/instagram_icon@2x.png\\'>\\n</a><a addthis:url=\\'https://mars.nasa.gov/rss/api/?feed=news&amp;category=all&amp;feedtype=rss\\' class=\\'addthis_button_rss_follow icon\\'>\\n<img alt=\\'rss\\' src=\\'/assets/rss_icon@2x.png\\'>\\n</a></div>\\n</div>\\n<script src=\"//s7.addthis.com/js/300/addthis_widget.js#pubid=ra-5a690e4c1320e328\"></script>\\n\\n</div>\\n</div>\\n<div class=\\'gradient_line\\'></div>\\n</section>\\n<section class=\\'sitemap\\'>\\n<div class=\\'sitemap_directory\\' id=\\'sitemap_directory\\'>\\n<div class=\\'sitemap_block\\'>\\n<div class=\\'footer_sitemap_item\\'>\\n<h3 class=\\'sitemap_title\\'>\\n<a href=\"/#red_planet\">The Red Planet</a>\\n</h3>\\n<ul><li>\\n<div class=\\'global_subnav_container\\'>\\n<ul class=\\'subnav\\'>\\n<li>\\n<a href=\\'/#red_planet/0\\' target=\\'_self\\'>Dashboard</a>\\n</li>\\n<li>\\n<a href=\\'/#red_planet/1\\' target=\\'_self\\'>Science Goals</a>\\n</li>\\n<li>\\n<a href=\\'/#red_planet/2\\' target=\\'_self\\'>The Planet</a>\\n</li>\\n<li>\\n<a href=\\'/#red_planet/3\\' target=\\'_self\\'>Atmosphere</a>\\n</li>\\n<li>\\n<a href=\\'/#red_planet/4\\' target=\\'_self\\'>Astrobiology</a>\\n</li>\\n<li>\\n<a href=\\'/#red_planet/5\\' target=\\'_self\\'>Past, Present, Future, Timeline</a>\\n</li>\\n\\n</ul>\\n</div>\\n</li></ul>\\n</div>\\n</div>\\n<div class=\\'sitemap_block\\'>\\n<div class=\\'footer_sitemap_item\\'>\\n<h3 class=\\'sitemap_title\\'>\\n<a href=\"/#mars_exploration_program\">The Program</a>\\n</h3>\\n<ul><li>\\n<div class=\\'global_subnav_container\\'>\\n<ul class=\\'subnav\\'>\\n<li>\\n<a href=\\'/#mars_exploration_program/0\\' target=\\'_self\\'>Mission Statement</a>\\n</li>\\n<li>\\n<a href=\\'/#mars_exploration_program/1\\' target=\\'_self\\'>About the Program</a>\\n</li>\\n<li>\\n<a href=\\'/#mars_exploration_program/2\\' target=\\'_self\\'>Organization</a>\\n</li>\\n<li>\\n<a href=\\'/#mars_exploration_program/3\\' target=\\'_self\\'>Why Mars?</a>\\n</li>\\n<li>\\n<a href=\\'/#mars_exploration_program/4\\' target=\\'_self\\'>Research Programs</a>\\n</li>\\n<li>\\n<a href=\\'/#mars_exploration_program/5\\' target=\\'_self\\'>Planetary Resources</a>\\n</li>\\n<li>\\n<a href=\\'/#mars_exploration_program/6\\' target=\\'_self\\'>Technologies</a>\\n</li>\\n\\n</ul>\\n</div>\\n</li></ul>\\n</div>\\n</div>\\n<div class=\\'sitemap_block\\'>\\n<div class=\\'footer_sitemap_item\\'>\\n<h3 class=\\'sitemap_title\\'>\\n<a href=\"/#news_and_events\">News &amp; Events</a>\\n</h3>\\n<ul><li>\\n<div class=\\'global_subnav_container\\'>\\n<ul class=\\'subnav\\'>\\n<li class=\\'current\\'>\\n<a href=\\'/news\\' target=\\'_self\\'>News</a>\\n</li>\\n<li>\\n<a href=\\'/events\\' target=\\'_self\\'>Events</a>\\n</li>\\n\\n</ul>\\n</div>\\n</li></ul>\\n</div>\\n</div>\\n<div class=\\'sitemap_block\\'>\\n<div class=\\'footer_sitemap_item\\'>\\n<h3 class=\\'sitemap_title\\'>\\n<a href=\"/#multimedia\">Multimedia</a>\\n</h3>\\n<ul><li>\\n<div class=\\'global_subnav_container\\'>\\n<ul class=\\'subnav\\'>\\n<li>\\n<a href=\\'/multimedia/images/\\' target=\\'_self\\'>Images</a>\\n</li>\\n<li>\\n<a href=\\'/multimedia/videos/\\' target=\\'_self\\'>Videos</a>\\n</li>\\n<li>\\n<a href=\\'/mars2020/multimedia/audio/\\' target=\\'_self\\'>Audio</a>\\n</li>\\n<li>\\n<a href=\\'/multimedia/more-resources/\\' target=\\'_self\\'>More Resources</a>\\n</li>\\n\\n</ul>\\n</div>\\n</li></ul>\\n</div>\\n</div>\\n<div class=\\'sitemap_block\\'>\\n<div class=\\'footer_sitemap_item\\'>\\n<h3 class=\\'sitemap_title\\'>\\n<a href=\"/#missions_gallery_subnav\">Missions</a>\\n</h3>\\n<ul><li>\\n<div class=\\'global_subnav_container\\'>\\n<ul class=\\'subnav\\'>\\n<li>\\n<a href=\\'/mars-exploration/missions/?category=167\\' target=\\'_self\\'>Past</a>\\n</li>\\n<li>\\n<a href=\\'/mars-exploration/missions/?category=170\\' target=\\'_self\\'>Present</a>\\n</li>\\n<li>\\n<a href=\\'/mars-exploration/missions/?category=171\\' target=\\'_self\\'>Future</a>\\n</li>\\n<li>\\n<a href=\\'/mars-exploration/partners\\' target=\\'_self\\'>International Partners</a>\\n</li>\\n\\n</ul>\\n</div>\\n</li></ul>\\n</div>\\n</div>\\n<div class=\\'sitemap_block\\'>\\n<div class=\\'footer_sitemap_item\\'>\\n<h3 class=\\'sitemap_title\\'>\\n<a href=\"/#more\">More</a>\\n</h3>\\n<ul><li>\\n<div class=\\'global_subnav_container\\'>\\n<ul class=\\'subnav\\'>\\n\\n</ul>\\n</div>\\n</li></ul>\\n</div>\\n</div>\\n\\n</div>\\n<div class=\\'gradient_line\\'></div>\\n</section>\\n<section class=\\'lower_footer\\'>\\n<div class=\\'nav_container\\'>\\n<nav>\\n<ul>\\n<li>\\n<a href=\\'http://science.nasa.gov/\\' target=\\'_blank\\'>NASA Science Mission Directorate</a>\\n</li>\\n<li>\\n<a href=\\'https://www.jpl.nasa.gov/copyrights.php\\' target=\\'_blank\\'>Privacy</a>\\n</li>\\n<li>\\n<a href=\\'http://www.jpl.nasa.gov/imagepolicy/\\' target=\\'_blank\\'>Image Policy</a>\\n</li>\\n<li>\\n<a href=\\'https://mars.nasa.gov/feedback/\\' target=\\'_self\\'>Feedback</a>\\n</li>\\n\\n</ul>\\n</nav>\\n</div>\\n<div class=\\'credits\\'>\\n<div class=\\'footer_brands_top\\'>\\n<p>Managed by the Mars Exploration Program and the Jet Propulsion Laboratory for NASA’s Science Mission Directorate</p>\\n</div>\\n<!-- .footer_brands -->\\n<!-- %a.jpl{href: \"\", target: \"_blank\"}Institution -->\\n<!--  -->\\n<!-- %a.caltech{href: \"\", target: \"_blank\"}Institution -->\\n<!-- .staff -->\\n<!-- %p -->\\n<!-- - get_staff_for_category(get_field_from_admin_config(:web_staff_category_id)) -->\\n<!-- - @staff.each_with_index do |staff, idx| -->\\n<!-- - unless staff.is_in_footer == 0 -->\\n<!-- = staff.title + \": \" -->\\n<!-- - if staff.contact_link =~ /@/ -->\\n<!-- = mail_to staff.contact_link, staff.name, :subject => \"[#{@site_title}]\" -->\\n<!-- - elsif staff.contact_link.present? -->\\n<!-- = link_to staff.name, staff.contact_link -->\\n<!-- - else -->\\n<!-- = staff.name -->\\n<!-- - unless (idx + 1 == @staff.size) -->\\n<!-- %br -->\\n</div>\\n</section>\\n</div>\\n</footer>\\n\\n</div>\\n</div>\\n<script id=\"_fed_an_ua_tag\" src=\"https://dap.digitalgov.gov/Universal-Federated-Analytics-Min.js?agency=NASA&subagency=JPL-Mars-MEPJPL&pua=UA-9453474-9,UA-118212757-11&dclink=true&sp=searchbox&exts=tif,tiff,wav\" type=\\'text/javascript\\'></script>\\n\\n\\n</body>\\n</html>\\n'"
      ]
     },
     "execution_count": 12,
     "metadata": {},
     "output_type": "execute_result"
    }
   ],
   "source": [
    "response.text"
   ]
  },
  {
   "cell_type": "code",
   "execution_count": 13,
   "id": "previous-consumer",
   "metadata": {},
   "outputs": [
    {
     "data": {
      "text/plain": [
       "[<div class=\"content_title\">\n",
       " <a href=\"/news/8860/nasas-next-mars-rover-is-ready-for-the-most-precise-landing-yet/\">\n",
       " NASA's Next Mars Rover Is Ready for the Most Precise Landing Yet\n",
       " </a>\n",
       " </div>,\n",
       " <div class=\"content_title\">\n",
       " <a href=\"/news/8837/nasa-to-host-virtual-briefing-on-february-perseverance-mars-rover-landing/\">\n",
       " NASA to Host Virtual Briefing on February Perseverance Mars Rover Landing\n",
       " </a>\n",
       " </div>,\n",
       " <div class=\"content_title\">\n",
       " <a href=\"/news/8836/nasa-insights-mole-ends-its-journey-on-mars/\">\n",
       " NASA InSight's ‘Mole' Ends Its Journey on Mars\n",
       " </a>\n",
       " </div>,\n",
       " <div class=\"content_title\">\n",
       " <a href=\"/news/8716/nasa-to-broadcast-mars-2020-perseverance-launch-prelaunch-activities/\">\n",
       " NASA to Broadcast Mars 2020 Perseverance Launch, Prelaunch Activities\n",
       " </a>\n",
       " </div>,\n",
       " <div class=\"content_title\">\n",
       " <a href=\"/news/8695/the-launch-is-approaching-for-nasas-next-mars-rover-perseverance/\">\n",
       " The Launch Is Approaching for NASA's Next Mars Rover, Perseverance\n",
       " </a>\n",
       " </div>,\n",
       " <div class=\"content_title\">\n",
       " <a href=\"/news/8692/nasa-to-hold-mars-2020-perseverance-rover-launch-briefing/\">\n",
       " NASA to Hold Mars 2020 Perseverance Rover Launch Briefing\n",
       " </a>\n",
       " </div>]"
      ]
     },
     "execution_count": 13,
     "metadata": {},
     "output_type": "execute_result"
    }
   ],
   "source": [
    "news_title = soup.find_all(\"div\", class_=\"content_title\")\n",
    "news_title"
   ]
  },
  {
   "cell_type": "markdown",
   "id": "palestinian-american",
   "metadata": {},
   "source": [
    "### JPL Mars Space Images - Featured Image"
   ]
  },
  {
   "cell_type": "code",
   "execution_count": 14,
   "id": "possible-trade",
   "metadata": {},
   "outputs": [
    {
     "name": "stderr",
     "output_type": "stream",
     "text": [
      "[WDM] - ====== WebDriver manager ======\n",
      "[WDM] - Current google-chrome version is 88.0.4324\n",
      "[WDM] - Get LATEST driver version for 88.0.4324\n"
     ]
    },
    {
     "name": "stdout",
     "output_type": "stream",
     "text": [
      "\n",
      "\n"
     ]
    },
    {
     "name": "stderr",
     "output_type": "stream",
     "text": [
      "[WDM] - Driver [C:\\Users\\RWASH\\.wdm\\drivers\\chromedriver\\win32\\88.0.4324.96\\chromedriver.exe] found in cache\n"
     ]
    }
   ],
   "source": [
    "executable_path = {'executable_path': ChromeDriverManager().install()}\n",
    "browser = Browser('chrome', **executable_path, headless=False)"
   ]
  },
  {
   "cell_type": "code",
   "execution_count": 15,
   "id": "earned-building",
   "metadata": {},
   "outputs": [
    {
     "name": "stdout",
     "output_type": "stream",
     "text": [
      "<div class=\"BaseImagePlaceholder aspect-ratio-one-one dark-theme\" data-v-a6031820=\"\"><div class=\"sm:object-cover object-cover\" data-v-a6031820=\"\"><img alt=\"\" class=\"BaseImage object-contain\" data-src=\"https://d2pn8kiwq2w21t.cloudfront.net/images/jpegPIA24167.2e16d0ba.fill-400x400-c50.jpg\" loading=\"lazy\" src=\"https://d2pn8kiwq2w21t.cloudfront.net/images/jpegPIA24167.2e16d0ba.fill-400x400-c50.jpg\"/></div> </div>\n"
     ]
    }
   ],
   "source": [
    "# Scrape page into soup.\n",
    "url = \"https://www.jpl.nasa.gov/spaceimages/?search=&category=Mars\"\n",
    "browser.visit(url)\n",
    "html = browser.html\n",
    "soup = bs(html, \"html.parser\")\n",
    "\n",
    "# Get image url for featured image.\n",
    "featured_image_base_url = \"https://www.jpl.nasa.gov\"\n",
    "featured_image_relative_path = soup.find('div', class_='BaseImagePlaceholder')\n",
    "#featured_image_url = featured_image_base_url + featured_image_relative_path\n",
    "#print(f\"Featured image url: {featured_image_url}\")\n",
    "print(featured_image_relative_path)"
   ]
  },
  {
   "cell_type": "code",
   "execution_count": 17,
   "id": "requested-violation",
   "metadata": {},
   "outputs": [
    {
     "name": "stdout",
     "output_type": "stream",
     "text": [
      "<img alt=\"\" class=\"BaseImage object-contain\" data-src=\"https://d2pn8kiwq2w21t.cloudfront.net/images/jpegPIA24167.2e16d0ba.fill-400x400-c50.jpg\" loading=\"lazy\" src=\"https://d2pn8kiwq2w21t.cloudfront.net/images/jpegPIA24167.2e16d0ba.fill-400x400-c50.jpg\"/>\n"
     ]
    }
   ],
   "source": [
    "featured_image_url = featured_image_relative_path.find(\"img\")\n",
    "print(featured_image_url)"
   ]
  },
  {
   "cell_type": "code",
   "execution_count": 18,
   "id": "soviet-lemon",
   "metadata": {},
   "outputs": [
    {
     "name": "stdout",
     "output_type": "stream",
     "text": [
      "https://d2pn8kiwq2w21t.cloudfront.net/images/jpegPIA24167.2e16d0ba.fill-400x400-c50.jpg\n"
     ]
    }
   ],
   "source": [
    "feature_image_url1 = featured_image_url[\"src\"]\n",
    "print(feature_image_url1)"
   ]
  },
  {
   "cell_type": "code",
   "execution_count": null,
   "id": "subtle-judges",
   "metadata": {},
   "outputs": [],
   "source": [
    "feature_image_url1 = https://d2pn8kiwq2w21t.cloudfront.net/images/jpegPIA24167.2e16d0ba.fill-400x400-c50.jpg"
   ]
  },
  {
   "cell_type": "markdown",
   "id": "unable-quilt",
   "metadata": {},
   "source": [
    "### Mars Facts"
   ]
  },
  {
   "cell_type": "code",
   "execution_count": 19,
   "id": "continent-airfare",
   "metadata": {},
   "outputs": [],
   "source": [
    "import pandas as pd"
   ]
  },
  {
   "cell_type": "code",
   "execution_count": 20,
   "id": "hourly-advocacy",
   "metadata": {},
   "outputs": [],
   "source": [
    "url = 'https://space-facts.com/mars/'"
   ]
  },
  {
   "cell_type": "code",
   "execution_count": 21,
   "id": "intensive-better",
   "metadata": {},
   "outputs": [
    {
     "data": {
      "text/plain": [
       "[                      0                              1\n",
       " 0  Equatorial Diameter:                       6,792 km\n",
       " 1       Polar Diameter:                       6,752 km\n",
       " 2                 Mass:  6.39 × 10^23 kg (0.11 Earths)\n",
       " 3                Moons:            2 (Phobos & Deimos)\n",
       " 4       Orbit Distance:       227,943,824 km (1.38 AU)\n",
       " 5         Orbit Period:           687 days (1.9 years)\n",
       " 6  Surface Temperature:                   -87 to -5 °C\n",
       " 7         First Record:              2nd millennium BC\n",
       " 8          Recorded By:           Egyptian astronomers,\n",
       "   Mars - Earth Comparison             Mars            Earth\n",
       " 0               Diameter:         6,779 km        12,742 km\n",
       " 1                   Mass:  6.39 × 10^23 kg  5.97 × 10^24 kg\n",
       " 2                  Moons:                2                1\n",
       " 3      Distance from Sun:   227,943,824 km   149,598,262 km\n",
       " 4         Length of Year:   687 Earth days      365.24 days\n",
       " 5            Temperature:     -87 to -5 °C      -88 to 58°C,\n",
       "                       0                              1\n",
       " 0  Equatorial Diameter:                       6,792 km\n",
       " 1       Polar Diameter:                       6,752 km\n",
       " 2                 Mass:  6.39 × 10^23 kg (0.11 Earths)\n",
       " 3                Moons:            2 (Phobos & Deimos)\n",
       " 4       Orbit Distance:       227,943,824 km (1.38 AU)\n",
       " 5         Orbit Period:           687 days (1.9 years)\n",
       " 6  Surface Temperature:                   -87 to -5 °C\n",
       " 7         First Record:              2nd millennium BC\n",
       " 8          Recorded By:           Egyptian astronomers]"
      ]
     },
     "execution_count": 21,
     "metadata": {},
     "output_type": "execute_result"
    }
   ],
   "source": [
    "tables = pd.read_html(url)\n",
    "tables"
   ]
  },
  {
   "cell_type": "code",
   "execution_count": 22,
   "id": "asian-membership",
   "metadata": {},
   "outputs": [
    {
     "data": {
      "text/plain": [
       "list"
      ]
     },
     "execution_count": 22,
     "metadata": {},
     "output_type": "execute_result"
    }
   ],
   "source": [
    "type(tables)"
   ]
  },
  {
   "cell_type": "code",
   "execution_count": 23,
   "id": "saved-wealth",
   "metadata": {},
   "outputs": [
    {
     "data": {
      "text/html": [
       "<div>\n",
       "<style scoped>\n",
       "    .dataframe tbody tr th:only-of-type {\n",
       "        vertical-align: middle;\n",
       "    }\n",
       "\n",
       "    .dataframe tbody tr th {\n",
       "        vertical-align: top;\n",
       "    }\n",
       "\n",
       "    .dataframe thead th {\n",
       "        text-align: right;\n",
       "    }\n",
       "</style>\n",
       "<table border=\"1\" class=\"dataframe\">\n",
       "  <thead>\n",
       "    <tr style=\"text-align: right;\">\n",
       "      <th></th>\n",
       "      <th>Mars - Earth Comparison</th>\n",
       "      <th>Mars</th>\n",
       "      <th>Earth</th>\n",
       "    </tr>\n",
       "  </thead>\n",
       "  <tbody>\n",
       "    <tr>\n",
       "      <th>0</th>\n",
       "      <td>Diameter:</td>\n",
       "      <td>6,779 km</td>\n",
       "      <td>12,742 km</td>\n",
       "    </tr>\n",
       "    <tr>\n",
       "      <th>1</th>\n",
       "      <td>Mass:</td>\n",
       "      <td>6.39 × 10^23 kg</td>\n",
       "      <td>5.97 × 10^24 kg</td>\n",
       "    </tr>\n",
       "    <tr>\n",
       "      <th>2</th>\n",
       "      <td>Moons:</td>\n",
       "      <td>2</td>\n",
       "      <td>1</td>\n",
       "    </tr>\n",
       "    <tr>\n",
       "      <th>3</th>\n",
       "      <td>Distance from Sun:</td>\n",
       "      <td>227,943,824 km</td>\n",
       "      <td>149,598,262 km</td>\n",
       "    </tr>\n",
       "    <tr>\n",
       "      <th>4</th>\n",
       "      <td>Length of Year:</td>\n",
       "      <td>687 Earth days</td>\n",
       "      <td>365.24 days</td>\n",
       "    </tr>\n",
       "  </tbody>\n",
       "</table>\n",
       "</div>"
      ],
      "text/plain": [
       "  Mars - Earth Comparison             Mars            Earth\n",
       "0               Diameter:         6,779 km        12,742 km\n",
       "1                   Mass:  6.39 × 10^23 kg  5.97 × 10^24 kg\n",
       "2                  Moons:                2                1\n",
       "3      Distance from Sun:   227,943,824 km   149,598,262 km\n",
       "4         Length of Year:   687 Earth days      365.24 days"
      ]
     },
     "execution_count": 23,
     "metadata": {},
     "output_type": "execute_result"
    }
   ],
   "source": [
    "df = tables[1]\n",
    "df.head()"
   ]
  },
  {
   "cell_type": "markdown",
   "id": "frequent-marshall",
   "metadata": {},
   "source": [
    "### Mars Hemispheres"
   ]
  },
  {
   "cell_type": "code",
   "execution_count": 34,
   "id": "third-texture",
   "metadata": {},
   "outputs": [],
   "source": [
    "url = \"https://astrogeology.usgs.gov/search/results?q=hemisphere+enhanced&k1=target&v1=Mars\"\n",
    "browser.visit(url)"
   ]
  },
  {
   "cell_type": "code",
   "execution_count": 35,
   "id": "vanilla-czech",
   "metadata": {},
   "outputs": [],
   "source": [
    "html = browser.html\n",
    "soup = bs(html, 'html.parser')\n"
   ]
  },
  {
   "cell_type": "markdown",
   "id": "mental-coast",
   "metadata": {},
   "source": [
    "Titles"
   ]
  },
  {
   "cell_type": "code",
   "execution_count": 39,
   "id": "persistent-stationery",
   "metadata": {},
   "outputs": [
    {
     "data": {
      "text/plain": [
       "['Cerberus Hemisphere Enhanced',\n",
       " 'Schiaparelli Hemisphere Enhanced',\n",
       " 'Syrtis Major Hemisphere Enhanced',\n",
       " 'Valles Marineris Hemisphere Enhanced']"
      ]
     },
     "execution_count": 39,
     "metadata": {},
     "output_type": "execute_result"
    }
   ],
   "source": [
    "mars_hemis = []\n",
    "\n",
    "# Search for the names of all four hemispheres\n",
    "results = soup.find_all('div', class_=\"collapsible results\")\n",
    "hemispheres = results[0].find_all('h3')\n",
    "\n",
    "# Get text and store in list\n",
    "for name in hemispheres:\n",
    "    mars_hemis.append(name.text)\n",
    "\n",
    "mars_hemis"
   ]
  },
  {
   "cell_type": "markdown",
   "id": "isolated-switch",
   "metadata": {},
   "source": [
    "Image URL(s)"
   ]
  },
  {
   "cell_type": "code",
   "execution_count": 38,
   "id": "sensitive-grain",
   "metadata": {},
   "outputs": [
    {
     "data": {
      "text/plain": [
       "['https://astrogeology.usgs.gov//search/map/Mars/Viking/cerberus_enhanced',\n",
       " 'https://astrogeology.usgs.gov//search/map/Mars/Viking/schiaparelli_enhanced',\n",
       " 'https://astrogeology.usgs.gov//search/map/Mars/Viking/syrtis_major_enhanced',\n",
       " 'https://astrogeology.usgs.gov//search/map/Mars/Viking/valles_marineris_enhanced']"
      ]
     },
     "execution_count": 38,
     "metadata": {},
     "output_type": "execute_result"
    }
   ],
   "source": [
    "image_results = results[0].find_all('a')\n",
    "image_links = []\n",
    "\n",
    "for image in image_results:\n",
    "    if (image.img):\n",
    "        \n",
    "        image_url = 'https://astrogeology.usgs.gov/' + image['href']\n",
    "        \n",
    "        # Append list with links\n",
    "        image_links.append(image_url)\n",
    "\n",
    "image_links"
   ]
  },
  {
   "cell_type": "code",
   "execution_count": 40,
   "id": "funky-ancient",
   "metadata": {},
   "outputs": [
    {
     "name": "stdout",
     "output_type": "stream",
     "text": [
      "{'Cerberus': 'Cerberus Hemisphere Enhanced', 'Schiaparelli': 'Schiaparelli Hemisphere Enhanced', 'Syrtis Major': 'Syrtis Major Hemisphere Enhanced', 'Valles Marineris': 'Valles Marineris Hemisphere Enhanced'}\n"
     ]
    }
   ],
   "source": [
    "title = {\n",
    "  \"Cerberus\": \"Cerberus Hemisphere Enhanced\",\n",
    "  \"Schiaparelli\": \"Schiaparelli Hemisphere Enhanced\",\n",
    "  \"Syrtis Major\": \"Syrtis Major Hemisphere Enhanced\",\n",
    "\"Valles Marineris\": \"Valles Marineris Hemisphere Enhanced\"\n",
    "}\n",
    "print(title)\n"
   ]
  }
 ],
 "metadata": {
  "kernelspec": {
   "display_name": "Python 3",
   "language": "python",
   "name": "python3"
  },
  "language_info": {
   "codemirror_mode": {
    "name": "ipython",
    "version": 3
   },
   "file_extension": ".py",
   "mimetype": "text/x-python",
   "name": "python",
   "nbconvert_exporter": "python",
   "pygments_lexer": "ipython3",
   "version": "3.8.3"
  }
 },
 "nbformat": 4,
 "nbformat_minor": 5
}
